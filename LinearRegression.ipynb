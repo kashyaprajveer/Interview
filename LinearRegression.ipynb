{
 "cells": [
  {
   "cell_type": "markdown",
   "metadata": {},
   "source": [
    "1. What is Linear Regression Algorithm ?\n",
    "\n",
    "     It is a method of finding the best straight line fitting to the given dataset, i.e. tries to find the best linear relationship between the independent and dependent variables."
   ]
  },
  {
   "cell_type": "markdown",
   "metadata": {},
   "source": [
    "2. What are the basic assumptions of the Linear Regression Algorithm?\n",
    "\n",
    "    The basic assumptions of the Linear regression algorithm are as follows:\n",
    "\n",
    "    Linearity: The relationship between the features and target.\n",
    "    Homoscedasticity: The error term has a constant variance.\n",
    "    Multicollinearity: There is no multicollinearity between the features.\n",
    "    Independence: Observations are independent of each other.\n",
    "    Normality: The error(residuals) follows a normal distribution."
   ]
  },
  {
   "cell_type": "markdown",
   "metadata": {},
   "source": [
    "3. Which evaluation metric should you prefer to use for a dataset having a lot of outliers in it ?\n",
    "\n",
    "    Mean Absolute Error(MAE) is preferred when we have too many outliers present in the dataset because MAE is robust to outliers whereas MSE and RMSE are very susceptible to outliers and these start penalizing the outliers by squaring the error terms, commonly known as residuals."
   ]
  },
  {
   "cell_type": "markdown",
   "metadata": {},
   "source": [
    "4. What are the flaws in R-squared?"
   ]
  },
  {
   "cell_type": "markdown",
   "metadata": {},
   "source": [
    "5. What are R-squared and Adjusted R-squared?"
   ]
  },
  {
   "cell_type": "markdown",
   "metadata": {},
   "source": [
    "6. What is Multicollinearity?\n",
    "\n",
    "    It is a phenomenon where two or more independent variables(predictors) are highly correlated with each other i.e. one variable can be linearly predicted with the help of other variables. It determines the inter-correlations and inter-association among independent variables. Sometimes, multicollinearity can also be known as collinearity."
   ]
  },
  {
   "cell_type": "markdown",
   "metadata": {},
   "source": [
    "7. What is Heteroscedasticity? How to detect it?\n",
    "\n",
    "    It refers to the situation where the variations in a particular independent variable are unequal across the range of values of a second variable that tries to predict it.\n",
    "    To detect heteroscedasticity, we can use graphs or statistical tests such as the Breush-Pagan test and NCV test, etc."
   ]
  },
  {
   "cell_type": "markdown",
   "metadata": {},
   "source": [
    "8. What are the disadvantages of the linear regression Algorithm?\n",
    "\n",
    "    The main disadvantages of linear regression are as follows:\n",
    "\n",
    "        Assumption of linearity: It assumes that there exists a linear relationship between the independent variables(input) and dependent variables (output), therefore we are not able to fit the complex problems with the help of a linear regression algorithm.\n",
    "        Outliers: It is sensitive to noise and outliers.\n",
    "        Multicollinearity: It gets affected by multicollinearity."
   ]
  },
  {
   "cell_type": "markdown",
   "metadata": {},
   "source": [
    "9. What is VIF? \n",
    "\n",
    "    VIF stands for Variance inflation factor, which measures how much variance of an estimated regression coefficient is increased due to the presence of collinearity between the variables. It also determines how much multicollinearity exists in a particular regression model."
   ]
  },
  {
   "cell_type": "markdown",
   "metadata": {},
   "source": []
  },
  {
   "cell_type": "markdown",
   "metadata": {},
   "source": []
  },
  {
   "cell_type": "markdown",
   "metadata": {},
   "source": []
  },
  {
   "cell_type": "markdown",
   "metadata": {},
   "source": []
  },
  {
   "cell_type": "markdown",
   "metadata": {},
   "source": []
  },
  {
   "cell_type": "markdown",
   "metadata": {},
   "source": []
  }
 ],
 "metadata": {
  "language_info": {
   "name": "python"
  }
 },
 "nbformat": 4,
 "nbformat_minor": 2
}
