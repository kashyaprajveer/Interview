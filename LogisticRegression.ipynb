{
 "cells": [
  {
   "cell_type": "markdown",
   "metadata": {},
   "source": [
    "1) What is Logistic Regression in Machine Learning ?\n",
    "\n",
    "    Logistic regression is a supervised machine learning algorithm mainly used for classification tasks where the goal is to predict the probability that an instance of belonging to a given class or not. It is a kind of statistical algorithm, which analyze the relationship between a set of independent variables and the dependent binary variables. It is a powerful tool for decision-making. For example email spam or not. "
   ]
  },
  {
   "cell_type": "markdown",
   "metadata": {},
   "source": [
    "2) WHy it has been called regression?\n",
    "\n",
    "     It’s referred to as regression because it takes the output of the linear regression function as input and uses a sigmoid function to estimate the probability for the given class."
   ]
  },
  {
   "cell_type": "markdown",
   "metadata": {},
   "source": [
    "3) The difference between linear regression and logistic regression ?\n",
    "\n",
    "    The difference between linear regression and logistic regression is that linear regression output is the continuous value that can be anything while logistic regression predicts the probability that an instance belongs to a given class or not."
   ]
  },
  {
   "cell_type": "markdown",
   "metadata": {},
   "source": [
    "4) What are the assumptions for Logistic Regression ?\n",
    "\n",
    "    The assumptions for Logistic regression are as follows:\n",
    "\n",
    "    a) Independent observations: Each observation is independent of the other. meaning there is no correlation between any input variables.\n",
    "    b) Binary dependent variables: It takes the assumption that the dependent variable must be binary or dichotomous, meaning it can take only two values. For more than two categories softmax functions are used.\n",
    "    c) Linearity relationship between independent variables and log odds: The relationship between the independent variables and the log odds of the dependent variable should be linear.\n",
    "    d) No outliers: There should be no outliers in the dataset.\n",
    "    Large sample size: The sample size is sufficiently large"
   ]
  },
  {
   "cell_type": "markdown",
   "metadata": {},
   "source": [
    "5) What is importance of thresholding in Logistic regression ?\n",
    "\n",
    "    Logistic regression becomes a classification technique only when a decision threshold is brought into the picture. The setting of the threshold value is a very important aspect of Logistic regression and is dependent on the classification problem itself.\n",
    "\n",
    "    The decision for the value of the threshold value is majorly affected by the values of precision and recall. Ideally, we want both precision and recall to be 1, but this seldom is the case."
   ]
  },
  {
   "cell_type": "markdown",
   "metadata": {},
   "source": [
    "6) Is the decision boundary Linear or Non-linear in the case of a Logistic Regression model?\n",
    "\n",
    "    The decision boundary is a line or a plane that separates the target variables into different classes that can be either linear or nonlinear. In the case of a Logistic Regression model, the decision boundary is a straight line.\n",
    "    Logistic Regression model formula = α+1X1+2X2+….+kXk. This clearly represents a straight line.\n",
    "\n",
    "    It is suitable in cases where a straight line is able to separate the different classes. However, in cases where a straight line does not suffice then nonlinear algorithms are used to achieve better results."
   ]
  },
  {
   "cell_type": "markdown",
   "metadata": {},
   "source": [
    "7) What is the Impact of Outliers on Logistic Regression?\n",
    "\n",
    "    The estimates of the Logistic Regression are sensitive to unusual observations such as outliers, high leverage, and influential observations. Therefore, to solve the problem of outliers, a sigmoid function is used in Logistic Regression."
   ]
  },
  {
   "cell_type": "markdown",
   "metadata": {},
   "source": [
    "8) What is the difference between the outputs of the Logistic model and the Logistic function?\n",
    "\n",
    "    The Logistic model outputs the logits, i.e. log-odds; whereas the Logistic function outputs the probabilities.\n",
    "    Logistic model = α+1X1+2X2+….+kXk. Therefore, the output of the Logistic model will be logits.\n",
    "\n",
    "    Logistic function = f(z) = 1/(1+e-(α+1X1+2X2+….+kXk)). Therefore, the output of the Logistic function will be the probabilities."
   ]
  },
  {
   "cell_type": "markdown",
   "metadata": {},
   "source": [
    "9) How do we handle categorical variables in Logistic Regression?\n",
    "\n",
    "    The inputs given to a Logistic Regression model need to be numeric. The algorithm cannot handle categorical variables directly. So, we need to convert the categorical data into a numerical format that is suitable for the algorithm to process.\n",
    "    Each level of the categorical variable will be assigned a unique numeric value also known as a dummy variable. These dummy variables are handled by the Logistic Regression model in the same manner as any other numeric value."
   ]
  },
  {
   "cell_type": "markdown",
   "metadata": {},
   "source": [
    "10) Which algorithm is better in the case of outliers present in the dataset i.e., Logistic Regression or SVM?\n",
    "\n",
    "    SVM (Support Vector Machines) handles the outliers in a better manner than the Logistic Regression.\n",
    "\n",
    "    Logistic Regression: Logistic Regression will identify a linear boundary if it exists to accommodate the outliers. To accommodate the outliers, it will shift the linear boundary.\n",
    "\n",
    "    SVM: SVM is insensitive to individual samples. So, to accommodate an outlier there will not be a major shift in the linear boundary. SVM comes with inbuilt complexity controls, which take care of overfitting, which is not true in the case of Logistic Regression."
   ]
  },
  {
   "cell_type": "markdown",
   "metadata": {},
   "source": [
    "12) Why can’t we use Mean Square Error (MSE) as a cost function for Logistic Regression?\n",
    "\n",
    "    Why can’t we use Mean Square Error (MSE) as a cost function for Logistic Regression?\n",
    "    In Logistic Regression, we use the sigmoid function to perform a non-linear transformation to obtain the probabilities. If we square this nonlinear transformation, then it will lead to the problem of non-convexity with local minimums and by using gradient descent in such cases, it is not possible to find the global minimum. As a result, MSE is not suitable for Logistic Regression.\n",
    "    So, in the Logistic Regression algorithm, we used Cross-entropy or log loss as a cost function. \n",
    "    \n",
    "    The property of the cost function for Logistic Regression is that:\n",
    "\n",
    "        The confident wrong predictions are penalized heavily\n",
    "        The confident right predictions are rewarded less"
   ]
  },
  {
   "cell_type": "markdown",
   "metadata": {},
   "source": [
    "13) What are the advantages of Logistic Regression?\n",
    "\n",
    "    The advantages of the logistic regression are as follows:\n",
    "    1. Logistic Regression is very easy to understand.\n",
    "    2. It requires less training.\n",
    "    3. It performs well for simple datasets as well as when the data set is linearly separable.\n",
    "    4. It doesn’t make any assumptions about the distributions of classes in feature space.\n",
    "    5. A Logistic Regression model is less likely to be over-fitted but it can overfit in high dimensional datasets. To avoid over-fitting these scenarios, One may consider regularization."
   ]
  },
  {
   "cell_type": "markdown",
   "metadata": {},
   "source": [
    "14) What are the disadvantages of Logistic Regression?\n",
    "\n",
    "    The disadvantages of the logistic regression are as follows:\n",
    "    1. Sometimes a lot of Feature Engineering is required.\n",
    "    2. If the independent features are correlated with each other it may affect the performance of the classifier.\n",
    "    3. It is quite sensitive to noise and overfitting.\n",
    "    4. Logistic Regression should not be used if the number of observations is lesser than the number of features, otherwise, it may lead to overfitting.\n",
    "    5. By using Logistic Regression, non-linear problems can’t be solved because it has a linear decision surface. But in real-world scenarios, the linearly separable data is rarely found.\n",
    "    6. By using Logistic Regression, it is tough to obtain complex relationships. Some algorithms such as neural networks, which are more powerful, and compact can easily outperform Logistic Regression algorithms.\n",
    "    7. In Linear Regression, there is a linear relationship between independent and dependent variables but in Logistic Regression, independent variables are linearly related to the log odds (log(p/(1-p))."
   ]
  },
  {
   "cell_type": "markdown",
   "metadata": {},
   "source": [
    "15) "
   ]
  },
  {
   "cell_type": "markdown",
   "metadata": {},
   "source": [
    "16) "
   ]
  },
  {
   "cell_type": "markdown",
   "metadata": {},
   "source": []
  },
  {
   "cell_type": "markdown",
   "metadata": {},
   "source": []
  }
 ],
 "metadata": {
  "language_info": {
   "name": "python"
  }
 },
 "nbformat": 4,
 "nbformat_minor": 2
}
