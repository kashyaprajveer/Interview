{
 "cells": [
  {
   "cell_type": "markdown",
   "metadata": {},
   "source": [
    "1) Difference between Delete and Truncate command?\n",
    "\n",
    "   Delete is a DML command while Truncate is a DDL command."
   ]
  },
  {
   "cell_type": "markdown",
   "metadata": {},
   "source": [
    "2) What is DDL and DML command?\n",
    "\n",
    "    DDL is Data Definition language whereas DML is Data Modification Language. \n",
    "    DDL is related to te definition of the data hence responsible for creating, deleting or modification of the structure of the table where as DML corresponds to the data itself that is stored in the table."
   ]
  },
  {
   "cell_type": "markdown",
   "metadata": {},
   "source": [
    "3) Find the employee with the n th highest salary in the company?\n",
    "\n",
    "    SELECT * FROM(\n",
    "    SELECT emp_name, salary, RANK() \n",
    "    over(ORDER BY salary DESC) AS ranking FROM employee) AS k\n",
    "    WHERE ranking = N;"
   ]
  },
  {
   "cell_type": "markdown",
   "metadata": {},
   "source": [
    "4) Difference between rank() and dense_rank() function ?\n",
    "\n",
    "      RANK and DENSE_RANK are used to order values and assign them numbers depending on where they fall in relation to one another.\n",
    "\n",
    "      RANK numbers are skipped so there may be a gap in rankings, and may not be unique.\n",
    "      DENSE_RANK numbers are not skipped so there will not be a gap in rankings, and may not be unique.\n",
    "\n",
    "      The syntax for the SQL RANK function is:\n",
    "      RANK () OVER ( [query_partition_clause] order_by_clause )\n",
    "\n",
    "      WITH PARTITION:\n",
    "      SELECT student_id, first_name, last_name, gender, fees_paid,\n",
    "      RANK() OVER (\n",
    "        PARTITION BY gender\n",
    "        ORDER BY fees_paid\n",
    "      ) AS rank_val\n",
    "      FROM student;\n",
    "\n",
    "      WITHOUT PARTITION:\n",
    "      SELECT student_id, first_name, last_name, gender, fees_paid,\n",
    "      RANK() OVER (\n",
    "            ORDER BY fees_paid\n",
    "      ) AS rank_val\n",
    "      FROM student;\n",
    "\n",
    "      The syntax for the SQL DENSE_RANK function is similar:\n",
    "      DENSE_RANK () OVER ( [query_partition_clause] order_by_clause )"
   ]
  },
  {
   "cell_type": "markdown",
   "metadata": {},
   "source": [
    "5) Difference between ROWID and ROWNUM ?\n",
    "\n",
    "    ROWID is representative of the allocation of physical memory. ROWNUM is representative of the sequence allocated to any data retrieval bunch"
   ]
  },
  {
   "cell_type": "markdown",
   "metadata": {},
   "source": [
    "6) Write a query to remove duplicates from the table ?\n",
    "\n",
    "    DELETE FROM [SampleDB].[dbo].[Employee]\n",
    "    WHERE ID NOT IN\n",
    "    (\n",
    "        SELECT MAX(ID) AS MaxRecordID\n",
    "        FROM [SampleDB].[dbo].[Employee]\n",
    "        GROUP BY [FirstName], \n",
    "                 [LastName], \n",
    "                 [Country]\n",
    "    );\n",
    "\n",
    "    We can use the SQL RANK function to remove the duplicate rows as well. SQL RANK function gives unique row ID for each row irrespective of the duplicate row.\n",
    "\n",
    "    In the following query, we use a RANK function with the PARTITION BY clause. The PARTITION BY clause prepares a subset of data for the specified columns and gives rank for that partition.\n",
    "\n",
    "    SELECT E.ID, \n",
    "    E.firstname, \n",
    "    E.lastname, \n",
    "    E.country, \n",
    "    T.rank\n",
    "    FROM [SampleDB].[dbo].[Employee] E\n",
    "    INNER JOIN\n",
    "    (\n",
    "    SELECT *, \n",
    "            RANK() OVER(PARTITION BY firstname, \n",
    "                                    lastname, \n",
    "                                    country\n",
    "            ORDER BY id) rank\n",
    "    FROM [SampleDB].[dbo].[Employee]\n",
    "    ) T ON E.ID = t.ID;"
   ]
  },
  {
   "cell_type": "markdown",
   "metadata": {},
   "source": []
  }
 ],
 "metadata": {
  "language_info": {
   "name": "python"
  }
 },
 "nbformat": 4,
 "nbformat_minor": 2
}
